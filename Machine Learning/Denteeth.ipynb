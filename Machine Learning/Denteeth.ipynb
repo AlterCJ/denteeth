{
  "nbformat": 4,
  "nbformat_minor": 0,
  "metadata": {
    "colab": {
      "name": "Denteeth.ipynb",
      "provenance": [],
      "collapsed_sections": [],
      "authorship_tag": "ABX9TyNWKBQkSIlEQ4CSfLlazuy0",
      "include_colab_link": true
    },
    "kernelspec": {
      "name": "python3",
      "display_name": "Python 3"
    },
    "language_info": {
      "name": "python"
    }
  },
  "cells": [
    {
      "cell_type": "markdown",
      "metadata": {
        "id": "view-in-github",
        "colab_type": "text"
      },
      "source": [
        "<a href=\"https://colab.research.google.com/github/AlterCJ/denteeth/blob/main/Machine%20Learning/Denteeth.ipynb\" target=\"_parent\"><img src=\"https://colab.research.google.com/assets/colab-badge.svg\" alt=\"Open In Colab\"/></a>"
      ]
    },
    {
      "cell_type": "code",
      "source": [
        "import itertools\n",
        "import os\n",
        "import matplotlib.pylab as plt\n",
        "import numpy as np\n",
        "import tensorflow as tf\n",
        "import tensorflow_hub as hub\n",
        "import tensorflow.keras.callbacks as callbacks\n",
        "import tensorflow.keras.layers as layers\n",
        "import tensorflow.keras.optimizers as optim\n",
        "from tensorflow.keras.callbacks import ReduceLROnPlateau\n",
        "from tensorflow.keras.models import Sequential\n",
        "from sklearn.metrics import classification_report, confusion_matrix\n",
        "from sklearn.metrics import ConfusionMatrixDisplay\n",
        "from keras.preprocessing.image import ImageDataGenerator"
      ],
      "metadata": {
        "id": "TM3c8Nq3GAAV"
      },
      "execution_count": 41,
      "outputs": []
    },
    {
      "cell_type": "code",
      "source": [
        "module_selection = (\"mobilenet_v2_100_224\", 224)\n",
        "handle_base, pixels = module_selection\n",
        "MODULE_HANDLE =\"https://tfhub.dev/google/imagenet/{}/feature_vector/5\".format(handle_base)\n",
        "IMAGE_SIZE = (pixels, pixels)\n",
        "print(\"Using {} with input size {}\".format(MODULE_HANDLE, IMAGE_SIZE))\n",
        "\n",
        "BATCH_SIZE = 32"
      ],
      "metadata": {
        "colab": {
          "base_uri": "https://localhost:8080/"
        },
        "cellView": "code",
        "id": "eFyefprXGDtu",
        "outputId": "76a665a3-d82b-4395-c359-664db3e00b06"
      },
      "execution_count": 3,
      "outputs": [
        {
          "output_type": "stream",
          "name": "stdout",
          "text": [
            "Using https://tfhub.dev/google/imagenet/mobilenet_v2_100_224/feature_vector/5 with input size (224, 224)\n"
          ]
        }
      ]
    },
    {
      "cell_type": "code",
      "source": [
        "from google.colab import drive\n",
        "drive.mount('/content/drive')"
      ],
      "metadata": {
        "colab": {
          "base_uri": "https://localhost:8080/"
        },
        "id": "0rjgZNasGNPp",
        "outputId": "1a5c41ca-3d3e-4dde-bbf6-456dbb3445dd"
      },
      "execution_count": 4,
      "outputs": [
        {
          "output_type": "stream",
          "name": "stdout",
          "text": [
            "Mounted at /content/drive\n"
          ]
        }
      ]
    },
    {
      "cell_type": "code",
      "source": [
        "path = \"drive/MyDrive/denteeth/\"\n",
        "TRAIN_DIR = os.path.join(path, 'train')\n",
        "TEST_DIR = os.path.join(path, 'test')\n",
        "VAL_DIR = os.path.join(path, 'validation')"
      ],
      "metadata": {
        "id": "8-cZdNp3GVi0"
      },
      "execution_count": 5,
      "outputs": []
    },
    {
      "cell_type": "code",
      "source": [
        "def explore_and_visualize_dataset(path, dataset_type=\"Train\"):\n",
        "    result_dict = dict()\n",
        "    for folder in os.listdir(path):\n",
        "        len_files = len(os.listdir(os.path.join(path, folder)))\n",
        "        result_dict[folder] = len_files\n",
        "    \n",
        "    label = list(result_dict.keys())\n",
        "    values_count = list(result_dict.values())\n",
        "    print(f\"Hasil Counting {dataset_type} Dataset\")\n",
        "    print(\"-\"*70)\n",
        "    plt.title(f\"Visualisasi {dataset_type} Dataset\")\n",
        "    plt.bar(range(len(label)), values_count, tick_label=label)\n",
        "    plt.show()\n",
        "    for label, count in zip(label, values_count):\n",
        "        print(f\"{count} Gambar yang ditemukan di dalam folder {label}\")\n",
        "    print(\"-\"*70)\n"
      ],
      "metadata": {
        "id": "2IDA18zvRkNg"
      },
      "execution_count": 6,
      "outputs": []
    },
    {
      "cell_type": "code",
      "source": [
        "train_val_datagen = ImageDataGenerator(rescale=1./255,\n",
        "                                      rotation_range=35,\n",
        "                                      zoom_range=[0.5, 1.1],\n",
        "                                      width_shift_range= 0.25,\n",
        "                                      height_shift_range = 0.25,\n",
        "                                      shear_range=0.15,\n",
        "                                      horizontal_flip=True,\n",
        "                                      vertical_flip= True,\n",
        "                                      fill_mode=\"nearest\"\n",
        ")\n",
        "\n",
        "test_datagen = ImageDataGenerator(rescale=1./255)"
      ],
      "metadata": {
        "id": "A4foP0e0UTBz"
      },
      "execution_count": 16,
      "outputs": []
    },
    {
      "cell_type": "code",
      "source": [
        "train_set = train_val_datagen.flow_from_directory(\n",
        "            TRAIN_DIR,\n",
        "            class_mode=\"categorical\",\n",
        "            batch_size= BATCH_SIZE,\n",
        "            target_size=IMAGE_SIZE,\n",
        "            seed =42\n",
        ")\n",
        "\n",
        "val_set = train_val_datagen.flow_from_directory(\n",
        "            VAL_DIR,\n",
        "            class_mode=\"categorical\",\n",
        "            batch_size= BATCH_SIZE,\n",
        "            target_size=IMAGE_SIZE\n",
        ")\n",
        "test_set = test_datagen.flow_from_directory(\n",
        "            TEST_DIR,\n",
        "            class_mode=\"categorical\",\n",
        "            batch_size= 2* BATCH_SIZE,\n",
        "            target_size=  IMAGE_SIZE\n",
        ")"
      ],
      "metadata": {
        "colab": {
          "base_uri": "https://localhost:8080/"
        },
        "id": "GNVB5i_SUzH6",
        "outputId": "9ae2fd6a-4eda-4128-ccb1-c2c77d7311d8"
      },
      "execution_count": 17,
      "outputs": [
        {
          "output_type": "stream",
          "name": "stdout",
          "text": [
            "Found 40 images belonging to 2 classes.\n",
            "Found 40 images belonging to 2 classes.\n",
            "Found 120 images belonging to 2 classes.\n"
          ]
        }
      ]
    },
    {
      "cell_type": "code",
      "source": [
        "print(\"Building model with\", MODULE_HANDLE)\n",
        "model = tf.keras.Sequential([\n",
        "    hub.KerasLayer(MODULE_HANDLE, trainable=False),\n",
        "    tf.keras.layers.Dropout(rate=0.2),\n",
        "    tf.keras.layers.Dense(train_set.num_classes, activation='softmax',\n",
        "                          kernel_regularizer=tf.keras.regularizers.l2(0.0001))\n",
        "])\n",
        "model.build([None, 224, 224, 3])\n",
        "model.summary()"
      ],
      "metadata": {
        "id": "r7R7xeMzG7Xq",
        "colab": {
          "base_uri": "https://localhost:8080/"
        },
        "outputId": "71b682be-3402-4f74-ffc5-89290f498076"
      },
      "execution_count": 19,
      "outputs": [
        {
          "output_type": "stream",
          "name": "stdout",
          "text": [
            "Building model with https://tfhub.dev/google/imagenet/mobilenet_v2_100_224/feature_vector/5\n",
            "Model: \"sequential_3\"\n",
            "_________________________________________________________________\n",
            " Layer (type)                Output Shape              Param #   \n",
            "=================================================================\n",
            " keras_layer_3 (KerasLayer)  (None, 1280)              2257984   \n",
            "                                                                 \n",
            " dropout_3 (Dropout)         (None, 1280)              0         \n",
            "                                                                 \n",
            " dense_3 (Dense)             (None, 2)                 2562      \n",
            "                                                                 \n",
            "=================================================================\n",
            "Total params: 2,260,546\n",
            "Trainable params: 2,562\n",
            "Non-trainable params: 2,257,984\n",
            "_________________________________________________________________\n"
          ]
        }
      ]
    },
    {
      "cell_type": "code",
      "source": [
        "model.compile(loss=\"categorical_crossentropy\", \n",
        "              optimizer=optim.RMSprop(lr=1e-4, momentum=0.9),\n",
        "              metrics=['accuracy'])"
      ],
      "metadata": {
        "id": "uwPlYUmoG9Ce",
        "colab": {
          "base_uri": "https://localhost:8080/"
        },
        "outputId": "44b67165-c6b4-4a3e-c656-cc709bc884dd"
      },
      "execution_count": 24,
      "outputs": [
        {
          "output_type": "stream",
          "name": "stderr",
          "text": [
            "/usr/local/lib/python3.7/dist-packages/keras/optimizer_v2/rmsprop.py:130: UserWarning: The `lr` argument is deprecated, use `learning_rate` instead.\n",
            "  super(RMSprop, self).__init__(name, **kwargs)\n"
          ]
        }
      ]
    },
    {
      "cell_type": "code",
      "source": [
        "steps_per_epoch = train_set.samples // train_set.batch_size\n",
        "validation_steps = val_set.samples // val_set.batch_size\n",
        "\n",
        "reduce_lr = callbacks.ReduceLROnPlateau(monitor='val_accuracy', min_lr=1e-8) \n",
        "early_stop_cb = callbacks.EarlyStopping(patience=15,monitor='val_accuracy', restore_best_weights= True)\n",
        "callbacks = [reduce_lr, early_stop_cb]\n",
        "history = model.fit(train_set,\n",
        "                    epochs=25, steps_per_epoch=steps_per_epoch,\n",
        "                    validation_data=val_set,\n",
        "                    callbacks=callbacks,\n",
        "                    validation_steps=validation_steps).history"
      ],
      "metadata": {
        "colab": {
          "base_uri": "https://localhost:8080/"
        },
        "id": "8UkTQ_fWHGLM",
        "outputId": "f33a0213-d95f-4911-80d9-90f044dd69e9"
      },
      "execution_count": 42,
      "outputs": [
        {
          "output_type": "stream",
          "name": "stdout",
          "text": [
            "Epoch 1/25\n",
            "1/1 [==============================] - 36s 36s/step - loss: 1.2628 - accuracy: 0.5000 - val_loss: 0.9704 - val_accuracy: 0.5625 - lr: 1.0000e-06\n",
            "Epoch 2/25\n",
            "1/1 [==============================] - 28s 28s/step - loss: 0.5809 - accuracy: 0.7812 - val_loss: 0.7335 - val_accuracy: 0.6250 - lr: 1.0000e-06\n",
            "Epoch 3/25\n",
            "1/1 [==============================] - 28s 28s/step - loss: 0.8043 - accuracy: 0.6875 - val_loss: 0.9290 - val_accuracy: 0.4375 - lr: 1.0000e-06\n",
            "Epoch 4/25\n",
            "1/1 [==============================] - 28s 28s/step - loss: 0.4564 - accuracy: 0.7188 - val_loss: 0.7744 - val_accuracy: 0.6250 - lr: 1.0000e-06\n",
            "Epoch 5/25\n",
            "1/1 [==============================] - 25s 25s/step - loss: 0.4550 - accuracy: 0.6250 - val_loss: 1.3043 - val_accuracy: 0.4375 - lr: 1.0000e-06\n",
            "Epoch 6/25\n",
            "1/1 [==============================] - 27s 27s/step - loss: 0.4694 - accuracy: 0.7812 - val_loss: 1.0727 - val_accuracy: 0.4688 - lr: 1.0000e-06\n",
            "Epoch 7/25\n",
            "1/1 [==============================] - 25s 25s/step - loss: 0.7890 - accuracy: 0.5000 - val_loss: 0.7485 - val_accuracy: 0.6875 - lr: 1.0000e-06\n",
            "Epoch 8/25\n",
            "1/1 [==============================] - 25s 25s/step - loss: 0.3715 - accuracy: 0.7500 - val_loss: 0.8224 - val_accuracy: 0.6250 - lr: 1.0000e-06\n",
            "Epoch 9/25\n",
            "1/1 [==============================] - 29s 29s/step - loss: 0.6985 - accuracy: 0.6562 - val_loss: 0.9808 - val_accuracy: 0.5938 - lr: 1.0000e-06\n",
            "Epoch 10/25\n",
            "1/1 [==============================] - 25s 25s/step - loss: 0.6885 - accuracy: 0.5000 - val_loss: 0.9515 - val_accuracy: 0.5000 - lr: 1.0000e-06\n",
            "Epoch 11/25\n",
            "1/1 [==============================] - 27s 27s/step - loss: 0.5706 - accuracy: 0.6875 - val_loss: 0.7334 - val_accuracy: 0.5312 - lr: 1.0000e-06\n",
            "Epoch 12/25\n",
            "1/1 [==============================] - 28s 28s/step - loss: 0.4832 - accuracy: 0.7812 - val_loss: 0.7604 - val_accuracy: 0.6562 - lr: 1.0000e-06\n",
            "Epoch 13/25\n",
            "1/1 [==============================] - 25s 25s/step - loss: 0.3569 - accuracy: 0.7500 - val_loss: 1.1257 - val_accuracy: 0.5000 - lr: 1.0000e-06\n",
            "Epoch 14/25\n",
            "1/1 [==============================] - 25s 25s/step - loss: 0.5174 - accuracy: 0.7500 - val_loss: 0.9622 - val_accuracy: 0.5938 - lr: 1.0000e-06\n",
            "Epoch 15/25\n",
            "1/1 [==============================] - 25s 25s/step - loss: 0.7053 - accuracy: 0.6250 - val_loss: 0.9213 - val_accuracy: 0.5312 - lr: 1.0000e-06\n",
            "Epoch 16/25\n",
            "1/1 [==============================] - 25s 25s/step - loss: 0.4547 - accuracy: 0.8750 - val_loss: 1.1241 - val_accuracy: 0.3750 - lr: 1.0000e-06\n",
            "Epoch 17/25\n",
            "1/1 [==============================] - 29s 29s/step - loss: 0.6685 - accuracy: 0.7188 - val_loss: 1.0227 - val_accuracy: 0.5625 - lr: 1.0000e-06\n",
            "Epoch 18/25\n",
            "1/1 [==============================] - 25s 25s/step - loss: 0.4545 - accuracy: 0.6250 - val_loss: 1.1597 - val_accuracy: 0.4688 - lr: 1.0000e-07\n",
            "Epoch 19/25\n",
            "1/1 [==============================] - 27s 27s/step - loss: 0.5043 - accuracy: 0.7812 - val_loss: 0.8279 - val_accuracy: 0.5625 - lr: 1.0000e-07\n",
            "Epoch 20/25\n",
            "1/1 [==============================] - 25s 25s/step - loss: 0.8274 - accuracy: 0.5000 - val_loss: 1.0824 - val_accuracy: 0.5625 - lr: 1.0000e-07\n",
            "Epoch 21/25\n",
            "1/1 [==============================] - 24s 24s/step - loss: 0.6756 - accuracy: 0.6250 - val_loss: 0.9285 - val_accuracy: 0.5000 - lr: 1.0000e-07\n",
            "Epoch 22/25\n",
            "1/1 [==============================] - 25s 25s/step - loss: 0.4214 - accuracy: 0.8750 - val_loss: 1.1116 - val_accuracy: 0.4688 - lr: 1.0000e-07\n"
          ]
        }
      ]
    },
    {
      "cell_type": "code",
      "source": [
        "plt.figure()\n",
        "plt.ylabel(\"Loss (training and validation)\")\n",
        "plt.xlabel(\"Training Steps\")\n",
        "plt.ylim([0,2])\n",
        "plt.plot(history[\"loss\"])\n",
        "plt.plot(history[\"val_loss\"])\n",
        "\n",
        "plt.figure()\n",
        "plt.ylabel(\"Accuracy (training and validation)\")\n",
        "plt.xlabel(\"Training Steps\")\n",
        "plt.ylim([0,1])\n",
        "plt.plot(history[\"accuracy\"])\n",
        "plt.plot(history[\"val_accuracy\"])"
      ],
      "metadata": {
        "id": "2iT876yFHdIL",
        "colab": {
          "base_uri": "https://localhost:8080/",
          "height": 566
        },
        "outputId": "4f0619eb-baf9-4c68-85b6-f5d1731b2c55"
      },
      "execution_count": 43,
      "outputs": [
        {
          "output_type": "execute_result",
          "data": {
            "text/plain": [
              "[<matplotlib.lines.Line2D at 0x7fb0df075110>]"
            ]
          },
          "metadata": {},
          "execution_count": 43
        },
        {
          "output_type": "display_data",
          "data": {
            "text/plain": [
              "<Figure size 432x288 with 1 Axes>"
            ],
            "image/png": "[encoded data removed]"
          },
          "metadata": {
            "needs_background": "light"
          }
        },
        {
          "output_type": "display_data",
          "data": {
            "text/plain": [
              "<Figure size 432x288 with 1 Axes>"
            ],
            "image/png": "[encoded data removed]"
          },
          "metadata": {
            "needs_background": "light"
          }
        }
      ]
    },
    {
      "cell_type": "code",
      "source": [
        "def evaluate_model(model, test_set):\n",
        "    X, y = test_set.next()\n",
        "    classes_ind = test_set.class_indices\n",
        "    labels = list(classes_ind.keys())\n",
        "    print('Loss of the model is - ', model.evaluate(X, y)[0])\n",
        "    print('Accuracy of the model is - ', model.evaluate(X, y)[1]*100, '%')\n",
        "    predict = model.predict(X)\n",
        "    predict = np.argmax(predict, axis=1)\n",
        "    predict = predict.reshape(1, -1)[0]\n",
        "    y_label = np.argmax(y, axis=1)\n",
        "    print(classification_report(y_label, predict, target_names =labels))\n",
        "\n",
        "    conf_matrix = confusion_matrix(y_label, predict)\n",
        "    ConfusionMatrixDisplay(conf_matrix, display_labels=np.array(labels))\n",
        "    plt.show()"
      ],
      "metadata": {
        "id": "Qhuu7tEGCf77"
      },
      "execution_count": 44,
      "outputs": []
    },
    {
      "cell_type": "code",
      "source": [
        "evaluate_model(model, test_set)"
      ],
      "metadata": {
        "id": "Bxb87cRRbavd",
        "colab": {
          "base_uri": "https://localhost:8080/"
        },
        "outputId": "e75b06a4-c159-4a86-a3cc-ca6445193264"
      },
      "execution_count": 45,
      "outputs": [
        {
          "output_type": "stream",
          "name": "stdout",
          "text": [
            "2/2 [==============================] - 2s 686ms/step - loss: 0.9120 - accuracy: 0.5893\n",
            "Loss of the model is -  0.911984384059906\n",
            "2/2 [==============================] - 2s 662ms/step - loss: 0.9120 - accuracy: 0.5893\n",
            "Accuracy of the model is -  58.92857313156128 %\n",
            "                 precision    recall  f1-score   support\n",
            "\n",
            "  healthy_teeth       0.53      0.80      0.63        25\n",
            "unhealthy_teeth       0.72      0.42      0.53        31\n",
            "\n",
            "       accuracy                           0.59        56\n",
            "      macro avg       0.62      0.61      0.58        56\n",
            "   weighted avg       0.63      0.59      0.58        56\n",
            "\n"
          ]
        }
      ]
    },
    {
      "cell_type": "code",
      "source": [
        "converter = tf.lite.TFLiteConverter.from_keras_model(model)\n",
        "tflite_model = converter.convert()\n",
        "\n",
        "with open(\"model.tflite\", 'wb') as f:\n",
        "  f.write(tflite_model)"
      ],
      "metadata": {
        "id": "Abnk7zhcXdDl",
        "colab": {
          "base_uri": "https://localhost:8080/"
        },
        "outputId": "d25c0cb7-44a6-4e31-b7a0-316e459e1dc4"
      },
      "execution_count": 46,
      "outputs": [
        {
          "output_type": "stream",
          "name": "stdout",
          "text": [
            "INFO:tensorflow:Assets written to: /tmp/tmpy2utedfb/assets\n"
          ]
        },
        {
          "output_type": "stream",
          "name": "stderr",
          "text": [
            "INFO:tensorflow:Assets written to: /tmp/tmpy2utedfb/assets\n",
            "WARNING:absl:Buffer deduplication procedure will be skipped when flatbuffer library is not properly loaded\n"
          ]
        }
      ]
    },
    {
      "cell_type": "code",
      "source": [
        ""
      ],
      "metadata": {
        "id": "6TH5SVMFlDpZ"
      },
      "execution_count": null,
      "outputs": []
    }
  ]
}