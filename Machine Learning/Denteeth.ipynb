{
  "nbformat": 4,
  "nbformat_minor": 0,
  "metadata": {
    "colab": {
      "name": "Denteeth.ipynb",
      "provenance": [],
      "authorship_tag": "ABX9TyN02CER23dmyZ0FpIKCCioZ",
      "include_colab_link": true
    },
    "kernelspec": {
      "name": "python3",
      "display_name": "Python 3"
    },
    "language_info": {
      "name": "python"
    }
  },
  "cells": [
    {
      "cell_type": "markdown",
      "metadata": {
        "id": "view-in-github",
        "colab_type": "text"
      },
      "source": [
        "<a href=\"https://colab.research.google.com/github/AlterCJ/denteeth/blob/main/Machine%20Learning/Denteeth.ipynb\" target=\"_parent\"><img src=\"https://colab.research.google.com/assets/colab-badge.svg\" alt=\"Open In Colab\"/></a>"
      ]
    },
    {
      "cell_type": "code",
      "execution_count": null,
      "metadata": {
        "id": "Fn-ywmdRFywV"
      },
      "outputs": [],
      "source": [
        "try:\n",
        "  %tensorflow_version 2.x\n",
        "except Exception:\n",
        "  pass"
      ]
    },
    {
      "cell_type": "code",
      "source": [
        "import itertools\n",
        "import os\n",
        "import matplotlib.pylab as plt\n",
        "import numpy as np\n",
        "import tensorflow as tf\n",
        "import tensorflow_hub as hub"
      ],
      "metadata": {
        "id": "TM3c8Nq3GAAV"
      },
      "execution_count": null,
      "outputs": []
    },
    {
      "cell_type": "code",
      "source": [
        "module_selection = (\"mobilenet_v2_100_224\", 224)\n",
        "handle_base, pixels = module_selection\n",
        "MODULE_HANDLE =\"https://tfhub.dev/google/imagenet/{}/feature_vector/4\".format(handle_base)\n",
        "IMAGE_SIZE = (pixels, pixels)\n",
        "print(\"Using {} with input size {}\".format(MODULE_HANDLE, IMAGE_SIZE))\n",
        "\n",
        "BATCH_SIZE = 32"
      ],
      "metadata": {
        "colab": {
          "base_uri": "https://localhost:8080/"
        },
        "cellView": "code",
        "id": "eFyefprXGDtu",
        "outputId": "99a58ed2-d085-4fb6-ab80-246bc5b5b228"
      },
      "execution_count": null,
      "outputs": [
        {
          "output_type": "stream",
          "name": "stdout",
          "text": [
            "Using https://tfhub.dev/google/imagenet/mobilenet_v2_100_224/feature_vector/4 with input size (224, 224)\n"
          ]
        }
      ]
    },
    {
      "cell_type": "code",
      "source": [
        "from google.colab import drive\n",
        "drive.mount('/content/drive')"
      ],
      "metadata": {
        "colab": {
          "base_uri": "https://localhost:8080/"
        },
        "id": "0rjgZNasGNPp",
        "outputId": "f17bef19-71b7-497d-84b3-5c37df06276e"
      },
      "execution_count": null,
      "outputs": [
        {
          "output_type": "stream",
          "name": "stdout",
          "text": [
            "Mounted at /content/drive\n"
          ]
        }
      ]
    },
    {
      "cell_type": "code",
      "source": [
        "data_dir='drive/MyDrive/denteeth/image'"
      ],
      "metadata": {
        "id": "8-cZdNp3GVi0"
      },
      "execution_count": null,
      "outputs": []
    },
    {
      "cell_type": "code",
      "source": [
        "datagen_rescale = dict(rescale=1./255, validation_split=.20)\n",
        "dataflow_resize = dict(target_size=IMAGE_SIZE,\n",
        "                       batch_size=BATCH_SIZE,\n",
        "                       interpolation=\"bilinear\")\n",
        "\n",
        "valid_datagen = tf.keras.preprocessing.image.ImageDataGenerator( **datagen_rescale)\n",
        "valid_generator = valid_datagen.flow_from_directory(data_dir,\n",
        "                                                    subset=\"validation\", \n",
        "                                                    shuffle=False, **dataflow_resize)\n",
        "\n",
        "do_data_augmentation = True \n",
        "if do_data_augmentation:\n",
        "  train_datagen = tf.keras.preprocessing.image.ImageDataGenerator(rotation_range=40,\n",
        "                                                                  horizontal_flip=True,\n",
        "                                                                  width_shift_range=0.2, height_shift_range=0.2,\n",
        "                                                                  shear_range=0.2, zoom_range=0.2,\n",
        "                                                                  **datagen_rescale)\n",
        "else:\n",
        "  train_datagen = valid_datagen\n",
        "\n",
        "train_generator = train_datagen.flow_from_directory(data_dir, \n",
        "                                                    subset=\"training\", \n",
        "                                                    shuffle=True, **dataflow_resize)"
      ],
      "metadata": {
        "colab": {
          "base_uri": "https://localhost:8080/"
        },
        "id": "tsW3NA1nGdG9",
        "outputId": "2d33f98c-1a92-4bc8-ea07-ce76b9ec07d3"
      },
      "execution_count": null,
      "outputs": [
        {
          "output_type": "stream",
          "name": "stdout",
          "text": [
            "Found 40 images belonging to 2 classes.\n",
            "Found 160 images belonging to 2 classes.\n"
          ]
        }
      ]
    },
    {
      "cell_type": "code",
      "source": [
        "do_fine_tuning = False"
      ],
      "metadata": {
        "id": "yJQwFC-wGeVb"
      },
      "execution_count": null,
      "outputs": []
    },
    {
      "cell_type": "code",
      "source": [
        "print(\"Building model with\", MODULE_HANDLE)\n",
        "model = tf.keras.Sequential([\n",
        "    hub.KerasLayer(MODULE_HANDLE, trainable=do_fine_tuning),\n",
        "    tf.keras.layers.Dropout(rate=0.2),\n",
        "    tf.keras.layers.Dense(train_generator.num_classes, activation='softmax',\n",
        "                          kernel_regularizer=tf.keras.regularizers.l2(0.0001))\n",
        "])\n",
        "model.build((None,)+IMAGE_SIZE+(3,))\n",
        "model.summary()"
      ],
      "metadata": {
        "colab": {
          "base_uri": "https://localhost:8080/"
        },
        "id": "r7R7xeMzG7Xq",
        "outputId": "70ce3160-3bc2-43c5-b3c3-86170aa50fb7"
      },
      "execution_count": 20,
      "outputs": [
        {
          "output_type": "stream",
          "name": "stdout",
          "text": [
            "Building model with https://tfhub.dev/google/imagenet/mobilenet_v2_100_224/feature_vector/4\n",
            "Model: \"sequential_2\"\n",
            "_________________________________________________________________\n",
            " Layer (type)                Output Shape              Param #   \n",
            "=================================================================\n",
            " keras_layer_1 (KerasLayer)  (None, 1280)              2257984   \n",
            "                                                                 \n",
            " dropout_1 (Dropout)         (None, 1280)              0         \n",
            "                                                                 \n",
            " dense_3 (Dense)             (None, 2)                 2562      \n",
            "                                                                 \n",
            "=================================================================\n",
            "Total params: 2,260,546\n",
            "Trainable params: 2,562\n",
            "Non-trainable params: 2,257,984\n",
            "_________________________________________________________________\n"
          ]
        }
      ]
    },
    {
      "cell_type": "code",
      "source": [
        "model.compile(optimizer=tf.keras.optimizers.SGD(learning_rate=0.01, momentum=0.9), \n",
        "              loss=tf.keras.losses.CategoricalCrossentropy(label_smoothing=0.1),\n",
        "              metrics=['accuracy'])"
      ],
      "metadata": {
        "id": "uwPlYUmoG9Ce"
      },
      "execution_count": 31,
      "outputs": []
    },
    {
      "cell_type": "code",
      "source": [
        "steps_per_epoch = train_generator.samples // train_generator.batch_size\n",
        "validation_steps = valid_generator.samples // valid_generator.batch_size\n",
        "\n",
        "history = model.fit(train_generator,\n",
        "                              epochs=25, steps_per_epoch=steps_per_epoch,\n",
        "                              validation_data=valid_generator,\n",
        "                              validation_steps=validation_steps).history"
      ],
      "metadata": {
        "colab": {
          "base_uri": "https://localhost:8080/"
        },
        "id": "8UkTQ_fWHGLM",
        "outputId": "e92fdc71-a8fd-4d66-bcc6-5259a75c62f1"
      },
      "execution_count": 32,
      "outputs": [
        {
          "output_type": "stream",
          "name": "stdout",
          "text": [
            "Epoch 1/25\n",
            "5/5 [==============================] - 87s 18s/step - loss: 1.0215 - accuracy: 0.8125 - val_loss: 1.2391 - val_accuracy: 0.6250\n",
            "Epoch 2/25\n",
            "5/5 [==============================] - 82s 17s/step - loss: 0.8487 - accuracy: 0.8813 - val_loss: 0.9609 - val_accuracy: 0.7812\n",
            "Epoch 3/25\n",
            "5/5 [==============================] - 82s 17s/step - loss: 0.9352 - accuracy: 0.8438 - val_loss: 1.2354 - val_accuracy: 0.6250\n",
            "Epoch 4/25\n",
            "5/5 [==============================] - 83s 17s/step - loss: 0.9406 - accuracy: 0.8375 - val_loss: 1.5162 - val_accuracy: 0.6562\n",
            "Epoch 5/25\n",
            "5/5 [==============================] - 82s 17s/step - loss: 0.7995 - accuracy: 0.8750 - val_loss: 1.4932 - val_accuracy: 0.6250\n",
            "Epoch 6/25\n",
            "5/5 [==============================] - 82s 17s/step - loss: 0.8255 - accuracy: 0.8687 - val_loss: 1.0376 - val_accuracy: 0.7188\n",
            "Epoch 7/25\n",
            "5/5 [==============================] - 83s 17s/step - loss: 0.7923 - accuracy: 0.8500 - val_loss: 1.4640 - val_accuracy: 0.6562\n",
            "Epoch 8/25\n",
            "5/5 [==============================] - 82s 17s/step - loss: 0.6656 - accuracy: 0.8750 - val_loss: 1.0194 - val_accuracy: 0.7500\n",
            "Epoch 9/25\n",
            "5/5 [==============================] - 84s 18s/step - loss: 0.7988 - accuracy: 0.8687 - val_loss: 0.8910 - val_accuracy: 0.7188\n",
            "Epoch 10/25\n",
            "5/5 [==============================] - 82s 17s/step - loss: 0.8493 - accuracy: 0.8562 - val_loss: 1.6944 - val_accuracy: 0.5938\n",
            "Epoch 11/25\n",
            "5/5 [==============================] - 82s 17s/step - loss: 0.8519 - accuracy: 0.8188 - val_loss: 1.1496 - val_accuracy: 0.6250\n",
            "Epoch 12/25\n",
            "5/5 [==============================] - 83s 17s/step - loss: 0.6915 - accuracy: 0.8562 - val_loss: 1.1948 - val_accuracy: 0.6250\n",
            "Epoch 13/25\n",
            "5/5 [==============================] - 83s 17s/step - loss: 0.6801 - accuracy: 0.8687 - val_loss: 1.2449 - val_accuracy: 0.6250\n",
            "Epoch 14/25\n",
            "5/5 [==============================] - 82s 17s/step - loss: 0.7566 - accuracy: 0.8438 - val_loss: 0.8194 - val_accuracy: 0.7812\n",
            "Epoch 15/25\n",
            "5/5 [==============================] - 82s 17s/step - loss: 0.6890 - accuracy: 0.8813 - val_loss: 0.8804 - val_accuracy: 0.6875\n",
            "Epoch 16/25\n",
            "5/5 [==============================] - 82s 17s/step - loss: 0.6608 - accuracy: 0.8687 - val_loss: 0.8603 - val_accuracy: 0.7188\n",
            "Epoch 17/25\n",
            "5/5 [==============================] - 82s 17s/step - loss: 0.8990 - accuracy: 0.8062 - val_loss: 0.7594 - val_accuracy: 0.7188\n",
            "Epoch 18/25\n",
            "5/5 [==============================] - 82s 17s/step - loss: 0.8888 - accuracy: 0.7750 - val_loss: 2.4358 - val_accuracy: 0.4688\n",
            "Epoch 19/25\n",
            "5/5 [==============================] - 84s 18s/step - loss: 0.9159 - accuracy: 0.8062 - val_loss: 0.7938 - val_accuracy: 0.7500\n",
            "Epoch 20/25\n",
            "5/5 [==============================] - 82s 17s/step - loss: 1.0705 - accuracy: 0.7625 - val_loss: 1.2495 - val_accuracy: 0.6250\n",
            "Epoch 21/25\n",
            "5/5 [==============================] - 83s 17s/step - loss: 0.6830 - accuracy: 0.8813 - val_loss: 0.6097 - val_accuracy: 0.7500\n",
            "Epoch 22/25\n",
            "5/5 [==============================] - 82s 17s/step - loss: 0.6307 - accuracy: 0.8625 - val_loss: 0.9475 - val_accuracy: 0.7188\n",
            "Epoch 23/25\n",
            "5/5 [==============================] - 82s 17s/step - loss: 0.6348 - accuracy: 0.8750 - val_loss: 1.0190 - val_accuracy: 0.6562\n",
            "Epoch 24/25\n",
            "5/5 [==============================] - 82s 17s/step - loss: 0.8128 - accuracy: 0.8625 - val_loss: 1.1626 - val_accuracy: 0.6562\n",
            "Epoch 25/25\n",
            "5/5 [==============================] - 83s 17s/step - loss: 0.6366 - accuracy: 0.8750 - val_loss: 0.5603 - val_accuracy: 0.8750\n"
          ]
        }
      ]
    },
    {
      "cell_type": "code",
      "source": [
        "plt.figure()\n",
        "plt.ylabel(\"Loss (training and validation)\")\n",
        "plt.xlabel(\"Training Steps\")\n",
        "plt.ylim([0,2])\n",
        "plt.plot(history[\"loss\"])\n",
        "plt.plot(history[\"val_loss\"])\n",
        "\n",
        "plt.figure()\n",
        "plt.ylabel(\"Accuracy (training and validation)\")\n",
        "plt.xlabel(\"Training Steps\")\n",
        "plt.ylim([0,1])\n",
        "plt.plot(history[\"accuracy\"])\n",
        "plt.plot(history[\"val_accuracy\"])"
      ],
      "metadata": {
        "colab": {
          "base_uri": "https://localhost:8080/",
          "height": 566
        },
        "id": "2iT876yFHdIL",
        "outputId": "4fa5a6a1-8f63-4f79-f593-8baa2f9c9913"
      },
      "execution_count": 33,
      "outputs": [
        {
          "output_type": "execute_result",
          "data": {
            "text/plain": [
              "[<matplotlib.lines.Line2D at 0x7f2d23871150>]"
            ]
          },
          "metadata": {},
          "execution_count": 33
        },
        {
          "output_type": "display_data",
          "data": {
            "text/plain": [
              "<Figure size 432x288 with 1 Axes>"
            ],
            "image/png": "[encoded data removed]"
          },
          "metadata": {
            "needs_background": "light"
          }
        },
        {
          "output_type": "display_data",
          "data": {
            "text/plain": [
              "<Figure size 432x288 with 1 Axes>"
            ],
            "image/png": "[encoded data removed]"
          },
          "metadata": {
            "needs_background": "light"
          }
        }
      ]
    },
    {
      "cell_type": "code",
      "source": [
        "converter = tf.lite.TFLiteConverter.from_keras_model(model)\n",
        "tflite_model = converter.convert()\n",
        "\n",
        "with open(\"model.tflite\", 'wb') as f:\n",
        "  f.write(tflite_model)"
      ],
      "metadata": {
        "colab": {
          "base_uri": "https://localhost:8080/"
        },
        "id": "Abnk7zhcXdDl",
        "outputId": "f34a5187-b487-4883-9a0c-eeb49fd015ac"
      },
      "execution_count": 34,
      "outputs": [
        {
          "output_type": "stream",
          "name": "stdout",
          "text": [
            "INFO:tensorflow:Assets written to: /tmp/tmpa1k4cgk0/assets\n"
          ]
        },
        {
          "output_type": "stream",
          "name": "stderr",
          "text": [
            "INFO:tensorflow:Assets written to: /tmp/tmpa1k4cgk0/assets\n",
            "WARNING:absl:Buffer deduplication procedure will be skipped when flatbuffer library is not properly loaded\n"
          ]
        }
      ]
    },
    {
      "cell_type": "code",
      "source": [
        ""
      ],
      "metadata": {
        "id": "8ejVMegAjhY3"
      },
      "execution_count": null,
      "outputs": []
    }
  ]
}